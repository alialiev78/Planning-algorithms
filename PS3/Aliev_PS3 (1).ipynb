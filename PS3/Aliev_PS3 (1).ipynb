{
  "nbformat": 4,
  "nbformat_minor": 0,
  "metadata": {
    "colab": {
      "provenance": []
    },
    "kernelspec": {
      "name": "python3",
      "display_name": "Python 3"
    },
    "language_info": {
      "name": "python"
    }
  },
  "cells": [
    {
      "cell_type": "code",
      "execution_count": null,
      "metadata": {
        "id": "FG6GBOyjznpT"
      },
      "outputs": [],
      "source": [
        "import numpy as np\n",
        "import matplotlib.pyplot as plt\n",
        "import matplotlib.animation as animation\n",
        "from vi import VI\n",
        "import utils\n",
        "from mdp import MDP\n",
        "from vi import VI"
      ]
    },
    {
      "cell_type": "code",
      "source": [
        "print(utils.action_space)"
      ],
      "metadata": {
        "id": "tW2U23AuztkZ",
        "colab": {
          "base_uri": "https://localhost:8080/"
        },
        "outputId": "b8dd8c11-12e8-4767-ace2-55ec08108369"
      },
      "execution_count": null,
      "outputs": [
        {
          "output_type": "stream",
          "name": "stdout",
          "text": [
            "[(-1, 0), (0, -1), (1, 0), (0, 1)]\n"
          ]
        }
      ]
    },
    {
      "cell_type": "markdown",
      "source": [
        "(-1, 0) - moving up \\\\\n",
        "(0, -1) - moving left \\\\\n",
        "(1, 0) - moving down \\\\\n",
        "(0, 1) - moving right"
      ],
      "metadata": {
        "id": "-9zt7eJJLpTY"
      }
    },
    {
      "cell_type": "markdown",
      "source": [
        "B. From lectures we know that $$G^* = \\min_{u_k} \\{(l(x_k, u_k) + G^*_{k+1}(x_{k+1})\\}$$"
      ],
      "metadata": {
        "id": "gETfN1oGMkz9"
      }
    },
    {
      "cell_type": "code",
      "source": [
        "data = np.load('data_ps3.npz')\n",
        "environment_grid = data['environment']\n",
        "# environment_grid\n",
        "s_ini = (0,0)\n",
        "goal = (21,17)\n",
        "epsilon = 0.4 #Propagation probability (see utils)"
      ],
      "metadata": {
        "id": "hKdgEx3cztmc"
      },
      "execution_count": null,
      "outputs": []
    },
    {
      "cell_type": "code",
      "source": [
        "environment = utils.Environment(environment_grid, s_ini, goal, epsilon)\n",
        "fig, ax = plt.subplots(figsize=(6, 6))\n",
        "\n",
        "im = environment.plot_enviroment(s_ini, goal)\n",
        "im = ax.matshow(im)\n",
        "\n",
        "ax.set_xticks([])\n",
        "ax.set_yticks([])\n",
        "\n",
        "plt.show()"
      ],
      "metadata": {
        "colab": {
          "base_uri": "https://localhost:8080/",
          "height": 499
        },
        "id": "_CDDgk3kM9Fc",
        "outputId": "eed2900a-5fa0-42ea-d37b-2434c544c758"
      },
      "execution_count": null,
      "outputs": [
        {
          "output_type": "display_data",
          "data": {
            "text/plain": [
              "<Figure size 600x600 with 1 Axes>"
            ],
            "image/png": "[encoded data removed]"
          },
          "metadata": {}
        }
      ]
    },
    {
      "cell_type": "code",
      "source": [
        "plt.imshow(VI(environment, goal=goal).calculate_value_function())\n",
        "plt.title('Optimal cost')\n",
        "plt.show()"
      ],
      "metadata": {
        "colab": {
          "base_uri": "https://localhost:8080/",
          "height": 487
        },
        "id": "-_VIKXMxNed8",
        "outputId": "460c675e-060e-4277-8c5b-c0d682568baf"
      },
      "execution_count": null,
      "outputs": [
        {
          "output_type": "stream",
          "name": "stderr",
          "text": [
            "<ipython-input-8-91d3cebe831c>:39: RuntimeWarning: invalid value encountered in subtract\n",
            "  if np.max(np.abs(self._G - G_prev)) < threshold:\n"
          ]
        },
        {
          "output_type": "display_data",
          "data": {
            "text/plain": [
              "<Figure size 640x480 with 1 Axes>"
            ],
            "image/png": "[encoded data removed]"
          },
          "metadata": {}
        }
      ]
    },
    {
      "cell_type": "markdown",
      "source": [
        "D. In our case:\n",
        "$$\n",
        "a^* = argmin_{a \\in \\mathcal{A}(s)} \\left\\{l(s, a) + G^*(f(s, a)) \\right\\}\n",
        "$$"
      ],
      "metadata": {
        "id": "Lhd8hv-GvWI3"
      }
    },
    {
      "cell_type": "code",
      "source": [
        "vi.calculate_policy()\n",
        "\n",
        "state = s_ini\n",
        "environment.reset(state)\n",
        "\n",
        "fig = plt.figure()\n",
        "images = []\n",
        "for i in range(100):\n",
        "    im = environment.plot_enviroment(state, goal)\n",
        "    plot = plt.imshow(im)\n",
        "    images.append([plot])\n",
        "    a = vi.policy(state)\n",
        "    state, _, safe_propagation, success_indicator = environment.step(action_space[a], epsilon=0.001)\n",
        "    if not safe_propagation:\n",
        "        print('You died', state)\n",
        "        break\n",
        "    print('num_iterations', i)\n",
        "    print('state', state)\n",
        "    print('action', a)\n",
        "    print()\n",
        "    if success_indicator:\n",
        "        print('We achieved goal state in ', i, 'iterations')\n",
        "        im = environment.plot_enviroment(state, goal)\n",
        "        plot = plt.imshow(im)\n",
        "        images.append([plot])\n",
        "        break\n",
        "\n",
        "ani = animation.ArtistAnimation(fig, images, interval=100, blit=True)\n",
        "ani.save('plan_vi.mp4')\n",
        "plt.show()"
      ],
      "metadata": {
        "colab": {
          "base_uri": "https://localhost:8080/",
          "height": 1000
        },
        "id": "Y3FLF0KXt52t",
        "outputId": "144142b9-d003-4116-8f49-4e66318d7f3b"
      },
      "execution_count": null,
      "outputs": [
        {
          "output_type": "stream",
          "name": "stdout",
          "text": [
            "num_iterations 0\n",
            "state (1, 0)\n",
            "action 2\n",
            "\n",
            "num_iterations 1\n",
            "state (2, 0)\n",
            "action 2\n",
            "\n",
            "num_iterations 2\n",
            "state (3, 0)\n",
            "action 2\n",
            "\n",
            "num_iterations 3\n",
            "state (4, 0)\n",
            "action 2\n",
            "\n",
            "num_iterations 4\n",
            "state (5, 0)\n",
            "action 2\n",
            "\n",
            "num_iterations 5\n",
            "state (6, 0)\n",
            "action 2\n",
            "\n",
            "num_iterations 6\n",
            "state (7, 0)\n",
            "action 2\n",
            "\n",
            "num_iterations 7\n",
            "state (8, 0)\n",
            "action 2\n",
            "\n",
            "num_iterations 8\n",
            "state (9, 0)\n",
            "action 2\n",
            "\n",
            "num_iterations 9\n",
            "state (10, 0)\n",
            "action 2\n",
            "\n",
            "num_iterations 10\n",
            "state (11, 0)\n",
            "action 2\n",
            "\n",
            "num_iterations 11\n",
            "state (12, 0)\n",
            "action 2\n",
            "\n",
            "num_iterations 12\n",
            "state (13, 0)\n",
            "action 2\n",
            "\n",
            "num_iterations 13\n",
            "state (14, 0)\n",
            "action 2\n",
            "\n",
            "num_iterations 14\n",
            "state (15, 0)\n",
            "action 2\n",
            "\n",
            "num_iterations 15\n",
            "state (16, 0)\n",
            "action 2\n",
            "\n",
            "num_iterations 16\n",
            "state (17, 0)\n",
            "action 2\n",
            "\n",
            "num_iterations 17\n",
            "state (17, 1)\n",
            "action 3\n",
            "\n",
            "num_iterations 18\n",
            "state (17, 2)\n",
            "action 3\n",
            "\n",
            "num_iterations 19\n",
            "state (17, 3)\n",
            "action 3\n",
            "\n",
            "num_iterations 20\n",
            "state (17, 4)\n",
            "action 3\n",
            "\n",
            "num_iterations 21\n",
            "state (17, 5)\n",
            "action 3\n",
            "\n",
            "num_iterations 22\n",
            "state (17, 6)\n",
            "action 3\n",
            "\n",
            "num_iterations 23\n",
            "state (17, 7)\n",
            "action 3\n",
            "\n",
            "num_iterations 24\n",
            "state (17, 8)\n",
            "action 3\n",
            "\n",
            "num_iterations 25\n",
            "state (17, 9)\n",
            "action 3\n",
            "\n",
            "num_iterations 26\n",
            "state (17, 10)\n",
            "action 3\n",
            "\n",
            "num_iterations 27\n",
            "state (17, 11)\n",
            "action 3\n",
            "\n",
            "num_iterations 28\n",
            "state (17, 12)\n",
            "action 3\n",
            "\n",
            "num_iterations 29\n",
            "state (18, 12)\n",
            "action 2\n",
            "\n",
            "num_iterations 30\n",
            "state (19, 12)\n",
            "action 2\n",
            "\n",
            "num_iterations 31\n",
            "state (20, 12)\n",
            "action 2\n",
            "\n",
            "num_iterations 32\n",
            "state (21, 12)\n",
            "action 2\n",
            "\n",
            "num_iterations 33\n",
            "state (21, 13)\n",
            "action 3\n",
            "\n",
            "num_iterations 34\n",
            "state (21, 14)\n",
            "action 3\n",
            "\n",
            "num_iterations 35\n",
            "state (21, 15)\n",
            "action 3\n",
            "\n",
            "num_iterations 36\n",
            "state (21, 16)\n",
            "action 3\n",
            "\n",
            "num_iterations 37\n",
            "state (21, 17)\n",
            "action 3\n",
            "\n",
            "We achieved goal state in  37 iterations\n"
          ]
        },
        {
          "output_type": "display_data",
          "data": {
            "text/plain": [
              "<Figure size 640x480 with 1 Axes>"
            ],
            "image/png": "[encoded data removed]"
          },
          "metadata": {}
        }
      ]
    },
    {
      "cell_type": "markdown",
      "source": [
        "In some runnings of the code I died"
      ],
      "metadata": {
        "id": "RjHiHcDj1bWt"
      }
    },
    {
      "cell_type": "markdown",
      "source": [
        "Now part with MDP. A and B fro lectures."
      ],
      "metadata": {
        "id": "FlKppQq783_Q"
      }
    },
    {
      "cell_type": "markdown",
      "source": [
        "A.\n",
        "$$\n",
        "v_*(s) = \\max\\limits_{a \\in \\mathcal{A}(s)}\\sum\\limits_{s', r} p(s', r|s, a) [r + \\gamma v_*(s')]\n",
        "$$"
      ],
      "metadata": {
        "id": "WlgbuA9Q8_Ki"
      }
    },
    {
      "cell_type": "markdown",
      "source": [
        "B. If $a_t = argmax_{a_t} q_*(s_t, a_t)$ then $\\pi(a_t|s_t) = 1$ otherwise it's equal to $0$\n",
        "where $q_*(s_t, a_t) = \\mathbb{E}[R_{t+1} + \\gamma v_*(s_{t+1})| s_t, a_t]$."
      ],
      "metadata": {
        "id": "9idfhERd9C-t"
      }
    },
    {
      "cell_type": "code",
      "source": [
        "plt.imshow(MDP(env=environment, goal=goal, gamma=0.99).calculate_value_function())\n",
        "plt.show()"
      ],
      "metadata": {
        "colab": {
          "base_uri": "https://localhost:8080/",
          "height": 430
        },
        "id": "CKEXhCCct9gh",
        "outputId": "48e4de3c-7ceb-4844-a06a-ee1084aa62ed"
      },
      "execution_count": null,
      "outputs": [
        {
          "output_type": "display_data",
          "data": {
            "text/plain": [
              "<Figure size 640x480 with 1 Axes>"
            ],
            "image/png": "[encoded data removed]"
          },
          "metadata": {}
        }
      ]
    },
    {
      "cell_type": "code",
      "source": [
        "MDP.calculate_policy()\n",
        "\n",
        "state = s_ini\n",
        "environment.reset(state)\n",
        "\n",
        "fig = plt.figure()\n",
        "images = []\n",
        "for i in range(100):\n",
        "    im = environment.plot_enviroment(state, goal)\n",
        "    plot = plt.imshow(im)\n",
        "    images.append([plot])\n",
        "    a = vi.policy(state)\n",
        "    state, _, safe_propagation, success_indicator = environment.step(action_space[a], epsilon=0.001)\n",
        "    if not safe_propagation:\n",
        "        print('You died', state)\n",
        "        break\n",
        "    print('num_iterations', i)\n",
        "    print('state', state)\n",
        "    print('action', a)\n",
        "    print()\n",
        "    if success_indicator:\n",
        "        print('We achieved goal state in ', i, 'iterations')\n",
        "        im = environment.plot_enviroment(state, goal)\n",
        "        plot = plt.imshow(im)\n",
        "        images.append([plot])\n",
        "        break\n",
        "\n",
        "ani = animation.ArtistAnimation(fig, images, interval=100, blit=True)\n",
        "ani.save('plan_vi.mp4')\n",
        "plt.show()"
      ],
      "metadata": {
        "colab": {
          "base_uri": "https://localhost:8080/",
          "height": 211
        },
        "id": "yC9t6hq75ggr",
        "outputId": "61b748c3-16a1-4506-8c34-808f7b99d29e"
      },
      "execution_count": null,
      "outputs": [
        {
          "output_type": "error",
          "ename": "TypeError",
          "evalue": "MDP.calculate_policy() missing 1 required positional argument: 'self'",
          "traceback": [
            "\u001b[0;31m---------------------------------------------------------------------------\u001b[0m",
            "\u001b[0;31mTypeError\u001b[0m                                 Traceback (most recent call last)",
            "\u001b[0;32m<ipython-input-32-de5b918ebad5>\u001b[0m in \u001b[0;36m<cell line: 1>\u001b[0;34m()\u001b[0m\n\u001b[0;32m----> 1\u001b[0;31m \u001b[0mMDP\u001b[0m\u001b[0;34m.\u001b[0m\u001b[0mcalculate_policy\u001b[0m\u001b[0;34m(\u001b[0m\u001b[0;34m)\u001b[0m\u001b[0;34m\u001b[0m\u001b[0;34m\u001b[0m\u001b[0m\n\u001b[0m\u001b[1;32m      2\u001b[0m \u001b[0;34m\u001b[0m\u001b[0m\n\u001b[1;32m      3\u001b[0m \u001b[0mstate\u001b[0m \u001b[0;34m=\u001b[0m \u001b[0ms_ini\u001b[0m\u001b[0;34m\u001b[0m\u001b[0;34m\u001b[0m\u001b[0m\n\u001b[1;32m      4\u001b[0m \u001b[0menvironment\u001b[0m\u001b[0;34m.\u001b[0m\u001b[0mreset\u001b[0m\u001b[0;34m(\u001b[0m\u001b[0mstate\u001b[0m\u001b[0;34m)\u001b[0m\u001b[0;34m\u001b[0m\u001b[0;34m\u001b[0m\u001b[0m\n\u001b[1;32m      5\u001b[0m \u001b[0;34m\u001b[0m\u001b[0m\n",
            "\u001b[0;31mTypeError\u001b[0m: MDP.calculate_policy() missing 1 required positional argument: 'self'"
          ]
        }
      ]
    },
    {
      "cell_type": "markdown",
      "source": [
        "Other tasks are simple but I have this problem and I can't solve it quickly, maybe it's problem with collab. Anyway I don't want to spend more time because it's already late"
      ],
      "metadata": {
        "id": "J5sG_2LNEtCg"
      }
    },
    {
      "cell_type": "code",
      "source": [],
      "metadata": {
        "id": "dXGeEPxV5gjf"
      },
      "execution_count": null,
      "outputs": []
    },
    {
      "cell_type": "code",
      "source": [],
      "metadata": {
        "id": "q4NUrrR75gl9"
      },
      "execution_count": null,
      "outputs": []
    },
    {
      "cell_type": "code",
      "source": [],
      "metadata": {
        "id": "CgFbaUSd5goo"
      },
      "execution_count": null,
      "outputs": []
    },
    {
      "cell_type": "code",
      "source": [],
      "metadata": {
        "id": "z4ku8U-l1WnR"
      },
      "execution_count": null,
      "outputs": []
    },
    {
      "cell_type": "code",
      "source": [],
      "metadata": {
        "id": "_fp5tqCxt9jG"
      },
      "execution_count": null,
      "outputs": []
    },
    {
      "cell_type": "code",
      "source": [],
      "metadata": {
        "id": "VoMbW8Zrt9lf"
      },
      "execution_count": null,
      "outputs": []
    },
    {
      "cell_type": "code",
      "source": [],
      "metadata": {
        "id": "65E_Eg1l5diF"
      },
      "execution_count": null,
      "outputs": []
    }
  ]
}