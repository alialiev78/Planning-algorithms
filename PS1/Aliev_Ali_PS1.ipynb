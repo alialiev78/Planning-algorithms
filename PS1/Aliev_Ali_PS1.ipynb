{
  "nbformat": 4,
  "nbformat_minor": 0,
  "metadata": {
    "colab": {
      "provenance": []
    },
    "kernelspec": {
      "name": "python3",
      "display_name": "Python 3"
    },
    "language_info": {
      "name": "python"
    }
  },
  "cells": [
    {
      "cell_type": "code",
      "execution_count": null,
      "metadata": {
        "id": "GeCSM4xQMPC_"
      },
      "outputs": [],
      "source": [
        "#!/usr/bin/python\n",
        "\n",
        "import numpy as np\n",
        "from scipy import signal\n",
        "import matplotlib.pyplot as plt\n",
        "import matplotlib.animation as animation\n",
        "\n",
        "\n",
        "def normalize_image(img: np.ndarray, threshold: float = 0.1):\n",
        "    \"\"\"\n",
        "    normalize the image to be between 0 and 1\n",
        "    \"\"\"\n",
        "    dims = img.shape\n",
        "    env = np.ones(dims)\n",
        "    z = np.where(img < threshold)\n",
        "    env[z] = 0.0\n",
        "    return env\n",
        "\n",
        "\n",
        "def plot_enviroment(img: np.ndarray, obj: np.ndarray, state: tuple):\n",
        "    \"\"\"\n",
        "    @param img: original image in 2d\n",
        "    @param obj: is the 3d array of different configurations\n",
        "    @param state: is the curent pose (x, y, orientation) of the object\n",
        "\n",
        "    @return: the merged image\n",
        "    \"\"\"\n",
        "    dims = obj.shape\n",
        "    dim_x = int((dims[0] - 1) / 2)\n",
        "    dim_y = int((dims[1] - 1) / 2)\n",
        "    merged_img = np.copy(img)\n",
        "    merged_img[state[0] - dim_x:state[0] + dim_x + 1, state[1] - dim_y:state[1] + dim_y + 1] += obj[:, :, state[2]] * 0.5\n",
        "    return merged_img\n",
        "\n",
        "\n",
        "def plotting_results(environment: np.ndarray, rod: np.ndarray, plan: list, save_path: str = 'rod_solve.mp4'):\n",
        "    \"\"\"\n",
        "    create an animation of the plan and save it to a file\n",
        "\n",
        "    @param environment: the environment image in 2d\n",
        "    @param rod: is the 3d array of different configuration\n",
        "    @param plan: list of poses\n",
        "    @param save_path: path to save the animation\n",
        "    \"\"\"\n",
        "\n",
        "    fig = plt.figure()\n",
        "    imgs = []\n",
        "\n",
        "    for s in plan:\n",
        "        im = plot_enviroment(environment, rod, s)\n",
        "        plot = plt.imshow(im)\n",
        "        imgs.append([plot])\n",
        "\n",
        "    ani = animation.ArtistAnimation(fig, imgs, interval=50, blit=True)\n",
        "\n",
        "    ani.save(save_path)\n",
        "\n",
        "    plt.show()\n"
      ]
    },
    {
      "cell_type": "code",
      "source": [
        "!pip install utils"
      ],
      "metadata": {
        "colab": {
          "base_uri": "https://localhost:8080/"
        },
        "id": "VA8IzX2mNYUF",
        "outputId": "b530b252-9c02-4689-dc1e-b0bd5d8d8f44"
      },
      "execution_count": null,
      "outputs": [
        {
          "output_type": "stream",
          "name": "stdout",
          "text": [
            "Collecting utils\n",
            "  Downloading utils-1.0.2.tar.gz (13 kB)\n",
            "  Preparing metadata (setup.py) ... \u001b[?25l\u001b[?25hdone\n",
            "Building wheels for collected packages: utils\n",
            "  Building wheel for utils (setup.py) ... \u001b[?25l\u001b[?25hdone\n",
            "  Created wheel for utils: filename=utils-1.0.2-py2.py3-none-any.whl size=13906 sha256=def241ff2693d98701844ba4d438026216b6b782fc37954832fcb8fdb1dcc24a\n",
            "  Stored in directory: /root/.cache/pip/wheels/b8/39/f5/9d0ca31dba85773ececf0a7f5469f18810e1c8a8ed9da28ca7\n",
            "Successfully built utils\n",
            "Installing collected packages: utils\n",
            "Successfully installed utils-1.0.2\n"
          ]
        }
      ]
    },
    {
      "cell_type": "code",
      "source": [
        "from utils import *\n",
        "from scipy.signal import convolve2d"
      ],
      "metadata": {
        "id": "zhu-iQJzMTAK"
      },
      "execution_count": null,
      "outputs": []
    },
    {
      "cell_type": "code",
      "source": [
        "with np.load(\"data_ps1.npz\") as data:\n",
        "    environment = data['environment']\n",
        "    rod = data['rod']"
      ],
      "metadata": {
        "id": "obJ00G6dNXZX"
      },
      "execution_count": null,
      "outputs": []
    },
    {
      "cell_type": "code",
      "source": [
        "rod"
      ],
      "metadata": {
        "colab": {
          "base_uri": "https://localhost:8080/"
        },
        "id": "RgXBDHwfNh65",
        "outputId": "c9108cc8-add2-4294-80c5-55f8c8c5a105"
      },
      "execution_count": null,
      "outputs": [
        {
          "output_type": "execute_result",
          "data": {
            "text/plain": [
              "array([[[0., 0., 0., 0.],\n",
              "        [0., 0., 0., 0.],\n",
              "        [0., 0., 0., 0.],\n",
              "        [0., 0., 0., 0.],\n",
              "        [0., 0., 0., 0.],\n",
              "        [0., 0., 1., 0.],\n",
              "        [0., 0., 0., 0.],\n",
              "        [0., 0., 0., 0.],\n",
              "        [0., 0., 0., 0.],\n",
              "        [0., 0., 0., 0.],\n",
              "        [0., 0., 0., 0.]],\n",
              "\n",
              "       [[0., 0., 0., 0.],\n",
              "        [0., 0., 0., 1.],\n",
              "        [0., 0., 0., 0.],\n",
              "        [0., 0., 0., 0.],\n",
              "        [0., 0., 0., 0.],\n",
              "        [0., 0., 1., 0.],\n",
              "        [0., 0., 0., 0.],\n",
              "        [0., 0., 0., 0.],\n",
              "        [0., 0., 0., 0.],\n",
              "        [0., 1., 0., 0.],\n",
              "        [0., 0., 0., 0.]],\n",
              "\n",
              "       [[0., 0., 0., 0.],\n",
              "        [0., 0., 0., 0.],\n",
              "        [0., 0., 0., 1.],\n",
              "        [0., 0., 0., 0.],\n",
              "        [0., 0., 0., 0.],\n",
              "        [0., 0., 1., 0.],\n",
              "        [0., 0., 0., 0.],\n",
              "        [0., 0., 0., 0.],\n",
              "        [0., 1., 0., 0.],\n",
              "        [0., 0., 0., 0.],\n",
              "        [0., 0., 0., 0.]],\n",
              "\n",
              "       [[0., 0., 0., 0.],\n",
              "        [0., 0., 0., 0.],\n",
              "        [0., 0., 0., 0.],\n",
              "        [0., 0., 0., 1.],\n",
              "        [0., 0., 0., 0.],\n",
              "        [0., 0., 1., 0.],\n",
              "        [0., 0., 0., 0.],\n",
              "        [0., 1., 0., 0.],\n",
              "        [0., 0., 0., 0.],\n",
              "        [0., 0., 0., 0.],\n",
              "        [0., 0., 0., 0.]],\n",
              "\n",
              "       [[0., 0., 0., 0.],\n",
              "        [0., 0., 0., 0.],\n",
              "        [0., 0., 0., 0.],\n",
              "        [0., 0., 0., 0.],\n",
              "        [0., 0., 0., 1.],\n",
              "        [0., 0., 1., 0.],\n",
              "        [0., 1., 0., 0.],\n",
              "        [0., 0., 0., 0.],\n",
              "        [0., 0., 0., 0.],\n",
              "        [0., 0., 0., 0.],\n",
              "        [0., 0., 0., 0.]],\n",
              "\n",
              "       [[1., 0., 0., 0.],\n",
              "        [1., 0., 0., 0.],\n",
              "        [1., 0., 0., 0.],\n",
              "        [1., 0., 0., 0.],\n",
              "        [1., 0., 0., 0.],\n",
              "        [1., 1., 1., 1.],\n",
              "        [1., 0., 0., 0.],\n",
              "        [1., 0., 0., 0.],\n",
              "        [1., 0., 0., 0.],\n",
              "        [1., 0., 0., 0.],\n",
              "        [1., 0., 0., 0.]],\n",
              "\n",
              "       [[0., 0., 0., 0.],\n",
              "        [0., 0., 0., 0.],\n",
              "        [0., 0., 0., 0.],\n",
              "        [0., 0., 0., 0.],\n",
              "        [0., 1., 0., 0.],\n",
              "        [0., 0., 1., 0.],\n",
              "        [0., 0., 0., 1.],\n",
              "        [0., 0., 0., 0.],\n",
              "        [0., 0., 0., 0.],\n",
              "        [0., 0., 0., 0.],\n",
              "        [0., 0., 0., 0.]],\n",
              "\n",
              "       [[0., 0., 0., 0.],\n",
              "        [0., 0., 0., 0.],\n",
              "        [0., 0., 0., 0.],\n",
              "        [0., 1., 0., 0.],\n",
              "        [0., 0., 0., 0.],\n",
              "        [0., 0., 1., 0.],\n",
              "        [0., 0., 0., 0.],\n",
              "        [0., 0., 0., 1.],\n",
              "        [0., 0., 0., 0.],\n",
              "        [0., 0., 0., 0.],\n",
              "        [0., 0., 0., 0.]],\n",
              "\n",
              "       [[0., 0., 0., 0.],\n",
              "        [0., 0., 0., 0.],\n",
              "        [0., 1., 0., 0.],\n",
              "        [0., 0., 0., 0.],\n",
              "        [0., 0., 0., 0.],\n",
              "        [0., 0., 1., 0.],\n",
              "        [0., 0., 0., 0.],\n",
              "        [0., 0., 0., 0.],\n",
              "        [0., 0., 0., 1.],\n",
              "        [0., 0., 0., 0.],\n",
              "        [0., 0., 0., 0.]],\n",
              "\n",
              "       [[0., 0., 0., 0.],\n",
              "        [0., 1., 0., 0.],\n",
              "        [0., 0., 0., 0.],\n",
              "        [0., 0., 0., 0.],\n",
              "        [0., 0., 0., 0.],\n",
              "        [0., 0., 1., 0.],\n",
              "        [0., 0., 0., 0.],\n",
              "        [0., 0., 0., 0.],\n",
              "        [0., 0., 0., 0.],\n",
              "        [0., 0., 0., 1.],\n",
              "        [0., 0., 0., 0.]],\n",
              "\n",
              "       [[0., 0., 0., 0.],\n",
              "        [0., 0., 0., 0.],\n",
              "        [0., 0., 0., 0.],\n",
              "        [0., 0., 0., 0.],\n",
              "        [0., 0., 0., 0.],\n",
              "        [0., 0., 1., 0.],\n",
              "        [0., 0., 0., 0.],\n",
              "        [0., 0., 0., 0.],\n",
              "        [0., 0., 0., 0.],\n",
              "        [0., 0., 0., 0.],\n",
              "        [0., 0., 0., 0.]]])"
            ]
          },
          "metadata": {},
          "execution_count": 5
        }
      ]
    },
    {
      "cell_type": "code",
      "source": [
        "environment"
      ],
      "metadata": {
        "colab": {
          "base_uri": "https://localhost:8080/"
        },
        "id": "ASd0kDpzNmku",
        "outputId": "5eec4d84-b897-48c1-b24d-27d42dc9e695"
      },
      "execution_count": null,
      "outputs": [
        {
          "output_type": "execute_result",
          "data": {
            "text/plain": [
              "array([[0., 0., 0., ..., 0., 0., 0.],\n",
              "       [0., 0., 0., ..., 0., 0., 0.],\n",
              "       [0., 0., 0., ..., 0., 0., 0.],\n",
              "       ...,\n",
              "       [0., 0., 0., ..., 0., 0., 0.],\n",
              "       [0., 0., 0., ..., 0., 0., 0.],\n",
              "       [0., 0., 0., ..., 0., 0., 0.]])"
            ]
          },
          "metadata": {},
          "execution_count": 6
        }
      ]
    },
    {
      "cell_type": "code",
      "source": [
        "plt.title('Picture of workspace')\n",
        "plt.imshow(environment)"
      ],
      "metadata": {
        "colab": {
          "base_uri": "https://localhost:8080/",
          "height": 469
        },
        "id": "kfjqW4u3NqLw",
        "outputId": "a784116f-dbdf-4385-f011-f8a425cfdecd"
      },
      "execution_count": null,
      "outputs": [
        {
          "output_type": "execute_result",
          "data": {
            "text/plain": [
              "<matplotlib.image.AxesImage at 0x7cee18785570>"
            ]
          },
          "metadata": {},
          "execution_count": 7
        },
        {
          "output_type": "display_data",
          "data": {
            "text/plain": [
              "<Figure size 640x480 with 1 Axes>"
            ],
            "image/png": "[encoded data removed]"
          },
          "metadata": {}
        }
      ]
    },
    {
      "cell_type": "code",
      "source": [
        "f, ax = plt.subplots(1, 4, sharey=True)\n",
        "for i in range(4):\n",
        "    ax[i].imshow(rod[:, :, i])\n",
        "    ax[i].set_title(f'{i*45} degrees')\n",
        "plt.tight_layout()\n",
        "plt.show()"
      ],
      "metadata": {
        "colab": {
          "base_uri": "https://localhost:8080/",
          "height": 209
        },
        "id": "MgRhCShyOdfT",
        "outputId": "28166d33-a78a-424c-ac47-1af9f5a42c9f"
      },
      "execution_count": null,
      "outputs": [
        {
          "output_type": "display_data",
          "data": {
            "text/plain": [
              "<Figure size 640x480 with 4 Axes>"
            ],
            "image/png": "[encoded data removed]"
          },
          "metadata": {}
        }
      ]
    },
    {
      "cell_type": "code",
      "source": [
        "print('We are starting here')\n",
        "plt.imshow(plot_enviroment(img=environment, obj=rod, state=(6, 6, 2)))"
      ],
      "metadata": {
        "colab": {
          "base_uri": "https://localhost:8080/",
          "height": 468
        },
        "id": "GxHhf9dzQDR6",
        "outputId": "6a3cf6b7-88d9-4c79-9e24-6f56fb84743b"
      },
      "execution_count": null,
      "outputs": [
        {
          "output_type": "stream",
          "name": "stdout",
          "text": [
            "We are starting here\n"
          ]
        },
        {
          "output_type": "execute_result",
          "data": {
            "text/plain": [
              "<matplotlib.image.AxesImage at 0x7cee181dbbe0>"
            ]
          },
          "metadata": {},
          "execution_count": 11
        },
        {
          "output_type": "display_data",
          "data": {
            "text/plain": [
              "<Figure size 640x480 with 1 Axes>"
            ],
            "image/png": "[encoded data removed]"
          },
          "metadata": {}
        }
      ]
    },
    {
      "cell_type": "code",
      "source": [
        "print('We want to get here')\n",
        "plt.imshow(plot_enviroment(img=environment, obj=rod, state=(72, 64, 0)))"
      ],
      "metadata": {
        "colab": {
          "base_uri": "https://localhost:8080/",
          "height": 468
        },
        "id": "Cr-bVtpyQHCK",
        "outputId": "ac6d3b62-25a8-4d01-bbc5-3dc3f6f4352c"
      },
      "execution_count": null,
      "outputs": [
        {
          "output_type": "stream",
          "name": "stdout",
          "text": [
            "We want to get here\n"
          ]
        },
        {
          "output_type": "execute_result",
          "data": {
            "text/plain": [
              "<matplotlib.image.AxesImage at 0x7cede17332e0>"
            ]
          },
          "metadata": {},
          "execution_count": 12
        },
        {
          "output_type": "display_data",
          "data": {
            "text/plain": [
              "<Figure size 640x480 with 1 Axes>"
            ],
            "image/png": "[encoded data removed]"
          },
          "metadata": {}
        }
      ]
    },
    {
      "cell_type": "code",
      "source": [
        "f, ax = plt.subplots(1, 4, sharey=True)\n",
        "C = np.zeros((environment.shape[0], environment.shape[1], 4))\n",
        "for i in range(4):\n",
        "    tmp228 = normalize_image(convolve2d(environment, rod[:, :, i], boundary='symm', mode='same'))\n",
        "    C[:, :, i] = tmp228\n",
        "    print(f'{i*45} degrees', C.shape)\n",
        "    ax[i].imshow(tmp228)\n",
        "    ax[i].set_title(f'{i*45} degrees')\n",
        "plt.tight_layout()\n",
        "plt.show()"
      ],
      "metadata": {
        "colab": {
          "base_uri": "https://localhost:8080/",
          "height": 282
        },
        "id": "nm86r6x_QPBm",
        "outputId": "8bb7dbf3-f72e-4521-d38e-9cd2dfe652ae"
      },
      "execution_count": null,
      "outputs": [
        {
          "output_type": "stream",
          "name": "stdout",
          "text": [
            "0 degrees (100, 100, 4)\n",
            "45 degrees (100, 100, 4)\n",
            "90 degrees (100, 100, 4)\n",
            "135 degrees (100, 100, 4)\n"
          ]
        },
        {
          "output_type": "display_data",
          "data": {
            "text/plain": [
              "<Figure size 640x480 with 4 Axes>"
            ],
            "image/png": "[encoded data removed]"
          },
          "metadata": {}
        }
      ]
    },
    {
      "cell_type": "code",
      "source": [
        "def recursive_planning(x, parent_table, plan, x0):\n",
        "    if x == x0:\n",
        "        return plan\n",
        "    else:\n",
        "        plan.append(parent_table[x])\n",
        "        return recursive_planning(parent_table[x], parent_table, plan, x0)"
      ],
      "metadata": {
        "id": "xtes1BtdbWzo"
      },
      "execution_count": null,
      "outputs": []
    },
    {
      "cell_type": "code",
      "source": [
        "def A_star(x0, final_point, C, my_func):\n",
        "    tmp = []\n",
        "    visited_places = []\n",
        "    tmp.append((x0, 0))\n",
        "    conf_cost = {x0: 0}\n",
        "    parent_table = {}\n",
        "\n",
        "    i = 0\n",
        "    while len(tmp) != 0:\n",
        "        tmp = sorted(tmp, key = lambda temp: temp[1])\n",
        "        tmp228 = tmp.pop(0)\n",
        "        x = tmp228[0]\n",
        "        if x == final_point:\n",
        "            plan = list(reversed(recursive_planning(x, parent_table, [x], x0)))\n",
        "            final_cost = conf_cost[x]\n",
        "            results = {'plan': plan, 'cost': final_cost, 'iterations': i}\n",
        "            print(f'Final cost: {final_cost}, number of iterations: {i}')\n",
        "            return results\n",
        "\n",
        "        a = x[0]\n",
        "        b = x[1]\n",
        "        c = x[2]\n",
        "\n",
        "        available_steps = []\n",
        "        up = (a - 1, b, c)\n",
        "        down = (a + 1, b, c)\n",
        "        left = (a, b - 1, c)\n",
        "        right = (a, b + 1, c)\n",
        "\n",
        "\n",
        "        # since size is 100 and we cannot go closer than 6 steps we have following if conditions\n",
        "        if a >= 6 and C[up] != 1:\n",
        "            available_steps.append(up)\n",
        "\n",
        "        if a <= 93 and C[down] != 1:\n",
        "            available_steps.append(down)\n",
        "\n",
        "        if b >= 6 and C[left] != 1:\n",
        "            available_steps.append(left)\n",
        "\n",
        "        if b <= 93 and C[right] != 1:\n",
        "            available_steps.append(right)\n",
        "\n",
        "        rotation = np.roll([0,1,2,3], -c)\n",
        "        rotate1 = (a, b, np.roll(rotation, -1)[0])\n",
        "        rotate2 = (a, b, np.roll(rotation, 1)[0])\n",
        "\n",
        "        if C[rotate1] != 1:\n",
        "            available_steps.append(rotate1)\n",
        "        if C[rotate2] != 1:\n",
        "            available_steps.append(rotate2)\n",
        "\n",
        "\n",
        "        for j in available_steps:\n",
        "            if not j in visited_places:\n",
        "                visited_places.append(j)\n",
        "                parent_table[j] = x\n",
        "                conf_cost[j] = conf_cost[x] + 1\n",
        "                tmp.append((j, conf_cost[j] + my_func(j, final_point)))\n",
        "            elif conf_cost[j] > conf_cost[x] + 1:\n",
        "                conf_cost[j] = conf_cost[x] + 1\n",
        "                parent_table[j] = x\n",
        "        i += 1"
      ],
      "metadata": {
        "id": "8wOUsm3VdgoF"
      },
      "execution_count": null,
      "outputs": []
    },
    {
      "cell_type": "markdown",
      "source": [
        "Dijkstra algorithm"
      ],
      "metadata": {
        "id": "RlhLr-QAizwu"
      }
    },
    {
      "cell_type": "code",
      "source": [
        "x0 = (6, 6, 2)\n",
        "final_point = (72, 64, 0)\n",
        "\n",
        "results = A_star(x0, final_point, C, lambda i, j: 0)\n",
        "plotting_results(environment, rod, results['plan'], 'rod_Dijkstra.gif')"
      ],
      "metadata": {
        "colab": {
          "base_uri": "https://localhost:8080/",
          "height": 450
        },
        "id": "qeQBqoqHfyPS",
        "outputId": "06078ac7-5d34-4d34-a61c-ad806e887b3a"
      },
      "execution_count": null,
      "outputs": [
        {
          "output_type": "stream",
          "name": "stdout",
          "text": [
            "Final cost: 126, number of iterations: 14269\n"
          ]
        },
        {
          "output_type": "display_data",
          "data": {
            "text/plain": [
              "<Figure size 640x480 with 1 Axes>"
            ],
            "image/png": "[encoded data removed]"
          },
          "metadata": {}
        }
      ]
    },
    {
      "cell_type": "markdown",
      "source": [
        "A_star"
      ],
      "metadata": {
        "id": "oW_hNMhdjIEJ"
      }
    },
    {
      "cell_type": "code",
      "source": [
        "results = A_star(x0, final_point, C, lambda i, j: np.abs(np.array(i)[:2] - np.array(j)[:2]).sum())\n",
        "plotting_results(environment, rod, results['plan'], 'rod_A_star.gif')"
      ],
      "metadata": {
        "colab": {
          "base_uri": "https://localhost:8080/",
          "height": 450
        },
        "id": "TF5mfJ9Lf8dE",
        "outputId": "f65a0730-32cd-4413-c3ed-9cde09620a49"
      },
      "execution_count": null,
      "outputs": [
        {
          "output_type": "stream",
          "name": "stdout",
          "text": [
            "Final cost: 126, number of iterations: 3941\n"
          ]
        },
        {
          "output_type": "display_data",
          "data": {
            "text/plain": [
              "<Figure size 640x480 with 1 Axes>"
            ],
            "image/png": "[encoded data removed]"
          },
          "metadata": {}
        }
      ]
    },
    {
      "cell_type": "markdown",
      "source": [
        "We greatly decreased number of iterations but final cost din't changed"
      ],
      "metadata": {
        "id": "9rAmoKDnTO6o"
      }
    },
    {
      "cell_type": "markdown",
      "source": [
        "A_star with rotation"
      ],
      "metadata": {
        "id": "q4vqkQVVjM4X"
      }
    },
    {
      "cell_type": "code",
      "source": [
        "from numpy import linalg\n",
        "from scipy.linalg import logm\n",
        "\n",
        "# let's use function from seminar1\n",
        "def log_rotations(x_sub, final_point):\n",
        "    l1 = np.abs(np.array(x_sub)[:2] - np.array(final_point)[:2]).sum()\n",
        "    angle1, angle2 = x_sub[-1], final_point[-1]\n",
        "    r1 = np.array([[np.cos(angle1), -np.sin(angle1)], [np.sin(angle1), np.cos(angle1)]])\n",
        "    r2 = np.array([[np.cos(angle2), -np.sin(angle2)], [np.sin(angle2), np.cos(angle2)]])\n",
        "    return l1 + linalg.norm(logm(r1 @ r2.T))\n",
        "\n",
        "results = A_star(x0, final_point, C, log_rotations)\n",
        "plotting_results(environment, rod, results['plan'], 'rod_A_star_with_log.gif')"
      ],
      "metadata": {
        "id": "ueRy9_3RhXsd",
        "colab": {
          "base_uri": "https://localhost:8080/",
          "height": 450
        },
        "outputId": "fd6ff163-ed12-492e-c668-06210eb6971a"
      },
      "execution_count": null,
      "outputs": [
        {
          "output_type": "stream",
          "name": "stdout",
          "text": [
            "Final cost: 126, number of iterations: 3400\n"
          ]
        },
        {
          "output_type": "display_data",
          "data": {
            "text/plain": [
              "<Figure size 640x480 with 1 Axes>"
            ],
            "image/png": "[encoded data removed]"
          },
          "metadata": {}
        }
      ]
    },
    {
      "cell_type": "markdown",
      "source": [
        "We used heuristic function from seminar which decreased number of iterations even more"
      ],
      "metadata": {
        "id": "SStfadwTRWCK"
      }
    },
    {
      "cell_type": "code",
      "source": [],
      "metadata": {
        "id": "01MGkZWjRfnd"
      },
      "execution_count": null,
      "outputs": []
    }
  ]
}